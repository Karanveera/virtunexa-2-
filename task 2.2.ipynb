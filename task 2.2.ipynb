{
  "cells": [
    {
      "cell_type": "code",
      "source": [
        "!pip install pandas numpy"
      ],
      "metadata": {
        "colab": {
          "base_uri": "https://localhost:8080/"
        },
        "id": "rv6GFhL1gyMd",
        "outputId": "f4f662e0-367e-443f-84bb-c5a428e5498c"
      },
      "execution_count": 1,
      "outputs": [
        {
          "output_type": "stream",
          "name": "stdout",
          "text": [
            "Requirement already satisfied: pandas in /usr/local/lib/python3.11/dist-packages (2.2.2)\n",
            "Requirement already satisfied: numpy in /usr/local/lib/python3.11/dist-packages (1.26.4)\n",
            "Requirement already satisfied: python-dateutil>=2.8.2 in /usr/local/lib/python3.11/dist-packages (from pandas) (2.8.2)\n",
            "Requirement already satisfied: pytz>=2020.1 in /usr/local/lib/python3.11/dist-packages (from pandas) (2024.2)\n",
            "Requirement already satisfied: tzdata>=2022.7 in /usr/local/lib/python3.11/dist-packages (from pandas) (2024.2)\n",
            "Requirement already satisfied: six>=1.5 in /usr/local/lib/python3.11/dist-packages (from python-dateutil>=2.8.2->pandas) (1.17.0)\n"
          ]
        }
      ]
    },
    {
      "cell_type": "code",
      "source": [
        "import sqlite3\n",
        "\n",
        "def create_db():\n",
        "    conn = sqlite3.connect('calculator_history.db')\n",
        "    cursor = conn.cursor()\n",
        "    cursor.execute('''CREATE TABLE IF NOT EXISTS history\n",
        "                      (id INTEGER PRIMARY KEY,\n",
        "                       operation TEXT,\n",
        "                       result TEXT)''')\n",
        "    conn.commit()\n",
        "    conn.close()\n",
        "\n",
        "def log_history(operation, result):\n",
        "    conn = sqlite3.connect('calculator_history.db')\n",
        "    cursor = conn.cursor()\n",
        "    cursor.execute(\"INSERT INTO history (operation, result) VALUES (?, ?)\", (operation, result))\n",
        "    conn.commit()\n",
        "    conn.close()\n",
        "\n",
        "def calculator():\n",
        "    create_db()\n",
        "    print(\"Simple Calculator with Logging\")\n",
        "    print(\"Enter 'exit' to quit or 'history' to view past operations.\")\n",
        "\n",
        "    while True:\n",
        "        operation = input(\"\\nEnter operation (e.g., 5 + 3): \").strip()\n",
        "        if operation.lower() == \"exit\":\n",
        "            print(\"Goodbye!\")\n",
        "            break\n",
        "        elif operation.lower() == \"history\":\n",
        "            conn = sqlite3.connect('calculator_history.db')\n",
        "            cursor = conn.cursor()\n",
        "            cursor.execute(\"SELECT * FROM history\")\n",
        "            rows = cursor.fetchall()\n",
        "            print(\"\\nHistory:\")\n",
        "            for row in rows:\n",
        "                print(f\"{row[0]}. {row[1]} = {row[2]}\")\n",
        "            conn.close()\n",
        "            continue\n",
        "\n",
        "        try:\n",
        "            result = eval(operation)\n",
        "            print(f\"Result: {result}\")\n",
        "            log_history(operation, str(result))\n",
        "        except ZeroDivisionError:\n",
        "            print(\"Error: Division by zero is not allowed.\")\n",
        "        except Exception as e:\n",
        "            print(f\"Error: {e}\")\n",
        "\n",
        "if __name__ == \"__main__\":\n",
        "    calculator()\n"
      ],
      "metadata": {
        "colab": {
          "base_uri": "https://localhost:8080/"
        },
        "id": "iA8ZiLpQZzC0",
        "outputId": "68a140b6-477b-4765-e055-895249d622ec"
      },
      "execution_count": null,
      "outputs": [
        {
          "output_type": "stream",
          "name": "stdout",
          "text": [
            "Simple Calculator with Logging\n",
            "Enter 'exit' to quit or 'history' to view past operations.\n"
          ]
        }
      ]
    }
  ],
  "metadata": {
    "colab": {
      "provenance": []
    },
    "kernelspec": {
      "display_name": "Python 3",
      "name": "python3"
    },
    "language_info": {
      "name": "python"
    }
  },
  "nbformat": 4,
  "nbformat_minor": 0
}