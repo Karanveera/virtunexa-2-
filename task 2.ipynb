{
  "cells": [
    {
      "cell_type": "code",
      "source": [
        "!pip install pandas numpy"
      ],
      "metadata": {
        "colab": {
          "base_uri": "https://localhost:8080/"
        },
        "id": "rv6GFhL1gyMd",
        "outputId": "f4f662e0-367e-443f-84bb-c5a428e5498c"
      },
      "execution_count": 1,
      "outputs": [
        {
          "output_type": "stream",
          "name": "stdout",
          "text": [
            "Requirement already satisfied: pandas in /usr/local/lib/python3.11/dist-packages (2.2.2)\n",
            "Requirement already satisfied: numpy in /usr/local/lib/python3.11/dist-packages (1.26.4)\n",
            "Requirement already satisfied: python-dateutil>=2.8.2 in /usr/local/lib/python3.11/dist-packages (from pandas) (2.8.2)\n",
            "Requirement already satisfied: pytz>=2020.1 in /usr/local/lib/python3.11/dist-packages (from pandas) (2024.2)\n",
            "Requirement already satisfied: tzdata>=2022.7 in /usr/local/lib/python3.11/dist-packages (from pandas) (2024.2)\n",
            "Requirement already satisfied: six>=1.5 in /usr/local/lib/python3.11/dist-packages (from python-dateutil>=2.8.2->pandas) (1.17.0)\n"
          ]
        }
      ]
    },
    {
      "cell_type": "code",
      "source": [
        "import random\n",
        "\n",
        "def hangman():\n",
        "    word_list = [\"python\", \"data\", \"science\", \"hangman\", \"developer\"]\n",
        "    chosen_word = random.choice(word_list)\n",
        "    guessed_word = [\"_\"] * len(chosen_word)\n",
        "    attempts_left = 6\n",
        "    guessed_letters = set()\n",
        "\n",
        "    print(\"Welcome to Hangman!\")\n",
        "    print(\"Guess the word, one letter at a time.\")\n",
        "\n",
        "    while attempts_left > 0 and \"_\" in guessed_word:\n",
        "        print(\"\\nCurrent word:\", \" \".join(guessed_word))\n",
        "        print(f\"Attempts left: {attempts_left}\")\n",
        "        print(f\"Guessed letters: {', '.join(sorted(guessed_letters))}\")\n",
        "\n",
        "        # Get the user's guess\n",
        "        guess = input(\"Enter a letter: \").lower().strip()\n",
        "\n",
        "        # Input validation\n",
        "        if len(guess) != 1:\n",
        "            print(\"Error: Enter exactly one letter.\")\n",
        "            continue\n",
        "        if not guess.isalpha():\n",
        "            print(\"Error: Only alphabetic characters (a-z) are allowed.\")\n",
        "            continue\n",
        "        if guess in guessed_letters:\n",
        "            print(f\"Error: You already guessed '{guess}'. Try a different letter.\")\n",
        "            continue\n",
        "\n",
        "        # Process the guess\n",
        "        guessed_letters.add(guess)\n",
        "\n",
        "        if guess in chosen_word:\n",
        "            print(f\"Good guess! '{guess}' is in the word.\")\n",
        "            for index, letter in enumerate(chosen_word):\n",
        "                if letter == guess:\n",
        "                    guessed_word[index] = guess\n",
        "        else:\n",
        "            print(f\"Wrong guess! '{guess}' is not in the word.\")\n",
        "            attempts_left -= 1\n",
        "\n",
        "    # End game messages\n",
        "    if \"_\" not in guessed_word:\n",
        "        print(\"\\nCongratulations! You've guessed the word:\", chosen_word)\n",
        "    else:\n",
        "        print(\"\\nGame over! The word was:\", chosen_word)\n",
        "\n",
        "if __name__ == \"__main__\":\n",
        "    hangman()\n"
      ],
      "metadata": {
        "colab": {
          "base_uri": "https://localhost:8080/"
        },
        "id": "h0IzcGH_Xq3w",
        "outputId": "588b0f23-c57a-4fa7-bc6c-d548d720feb9"
      },
      "execution_count": null,
      "outputs": [
        {
          "output_type": "stream",
          "name": "stdout",
          "text": [
            "Welcome to Hangman!\n",
            "Guess the word, one letter at a time.\n",
            "\n",
            "Current word: _ _ _ _ _ _ _ _ _\n",
            "Attempts left: 6\n",
            "Guessed letters: \n",
            "Enter a letter: python\n",
            "Error: Enter exactly one letter.\n",
            "\n",
            "Current word: _ _ _ _ _ _ _ _ _\n",
            "Attempts left: 6\n",
            "Guessed letters: \n",
            "Enter a letter: hangman\n",
            "Error: Enter exactly one letter.\n",
            "\n",
            "Current word: _ _ _ _ _ _ _ _ _\n",
            "Attempts left: 6\n",
            "Guessed letters: \n",
            "Enter a letter: developer\n",
            "Error: Enter exactly one letter.\n",
            "\n",
            "Current word: _ _ _ _ _ _ _ _ _\n",
            "Attempts left: 6\n",
            "Guessed letters: \n",
            "Enter a letter: developer\n",
            "Error: Enter exactly one letter.\n",
            "\n",
            "Current word: _ _ _ _ _ _ _ _ _\n",
            "Attempts left: 6\n",
            "Guessed letters: \n",
            "Enter a letter: d\n",
            "Good guess! 'd' is in the word.\n",
            "\n",
            "Current word: d _ _ _ _ _ _ _ _\n",
            "Attempts left: 6\n",
            "Guessed letters: d\n",
            "Enter a letter: e\n",
            "Good guess! 'e' is in the word.\n",
            "\n",
            "Current word: d e _ e _ _ _ e _\n",
            "Attempts left: 6\n",
            "Guessed letters: d, e\n",
            "Enter a letter: v\n",
            "Good guess! 'v' is in the word.\n",
            "\n",
            "Current word: d e v e _ _ _ e _\n",
            "Attempts left: 6\n",
            "Guessed letters: d, e, v\n",
            "Enter a letter: l\n",
            "Good guess! 'l' is in the word.\n",
            "\n",
            "Current word: d e v e l _ _ e _\n",
            "Attempts left: 6\n",
            "Guessed letters: d, e, l, v\n"
          ]
        }
      ]
    }
  ],
  "metadata": {
    "colab": {
      "provenance": []
    },
    "kernelspec": {
      "display_name": "Python 3",
      "name": "python3"
    },
    "language_info": {
      "name": "python"
    }
  },
  "nbformat": 4,
  "nbformat_minor": 0
}